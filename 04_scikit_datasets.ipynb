{
 "cells": [
  {
   "cell_type": "markdown",
   "id": "41a14df6-aa48-4af9-a3e4-94f2268b808a",
   "metadata": {},
   "source": [
    "### Introduction\n",
    "\n",
    "Data management is an important topic in machine learning and usually takes a large part of data scientist time.\n",
    "\n",
    "Scikit-learn comes with a few datasets for you to make it easy to experiment with machine learning. We briefly explore the methods for working with Iris dataset in this workshop.  \n",
    "\n",
    "In the previous notebook, we loaded the iris dataset as below:"
   ]
  },
  {
   "cell_type": "code",
   "execution_count": 2,
   "id": "ac1d5740-2dd5-4d3e-a3bb-672330086934",
   "metadata": {},
   "outputs": [],
   "source": [
    "from sklearn.datasets import load_iris\n",
    "iris = load_iris()"
   ]
  },
  {
   "cell_type": "markdown",
   "id": "ae499848-3dc8-4158-86d4-1952c8cba044",
   "metadata": {},
   "source": [
    "**Exercise 04.01:** \n",
    "\n",
    "Browse the return of the `load_iris()` method in the docs:\n",
    "\n",
    "- https://scikit-learn.org/stable/modules/generated/sklearn.datasets.load_iris.html#sklearn.datasets.load_iris\n",
    "\n",
    "Look for the field containing the description of the dataset and print it out:"
   ]
  },
  {
   "cell_type": "code",
   "execution_count": 2,
   "id": "210ecf61-b3cb-415b-accc-c2d86d88b38a",
   "metadata": {},
   "outputs": [],
   "source": [
    "# uncomment the statement below and run the cell\n",
    "\n",
    "# print(iris.????) ### replace ???? with the name of attribute containing the description of the dataset"
   ]
  },
  {
   "cell_type": "markdown",
   "id": "c2809f93-de27-4832-9539-beb09f236a0f",
   "metadata": {},
   "source": [
    "### Explore the data\n",
    "\n",
    "Next explore the features by printing out the first few records:"
   ]
  },
  {
   "cell_type": "code",
   "execution_count": 3,
   "id": "e03220a1-d053-4808-8dd2-677d9ca0cb9a",
   "metadata": {},
   "outputs": [
    {
     "data": {
      "text/plain": [
       "array([[5.1, 3.5, 1.4, 0.2],\n",
       "       [4.9, 3. , 1.4, 0.2],\n",
       "       [4.7, 3.2, 1.3, 0.2],\n",
       "       [4.6, 3.1, 1.5, 0.2],\n",
       "       [5. , 3.6, 1.4, 0.2]])"
      ]
     },
     "execution_count": 3,
     "metadata": {},
     "output_type": "execute_result"
    }
   ],
   "source": [
    "iris.data[0:5]"
   ]
  },
  {
   "cell_type": "markdown",
   "id": "395b20e7-b521-4a04-b152-eb833b66ef76",
   "metadata": {},
   "source": [
    "Finally, we can print out the target data.  Let's print the whole column:"
   ]
  },
  {
   "cell_type": "code",
   "execution_count": 4,
   "id": "6cc305d3-e150-4671-8a73-eaac53b35c8f",
   "metadata": {},
   "outputs": [
    {
     "data": {
      "text/plain": [
       "array([0, 0, 0, 0, 0, 0, 0, 0, 0, 0, 0, 0, 0, 0, 0, 0, 0, 0, 0, 0, 0, 0,\n",
       "       0, 0, 0, 0, 0, 0, 0, 0, 0, 0, 0, 0, 0, 0, 0, 0, 0, 0, 0, 0, 0, 0,\n",
       "       0, 0, 0, 0, 0, 0, 1, 1, 1, 1, 1, 1, 1, 1, 1, 1, 1, 1, 1, 1, 1, 1,\n",
       "       1, 1, 1, 1, 1, 1, 1, 1, 1, 1, 1, 1, 1, 1, 1, 1, 1, 1, 1, 1, 1, 1,\n",
       "       1, 1, 1, 1, 1, 1, 1, 1, 1, 1, 1, 1, 2, 2, 2, 2, 2, 2, 2, 2, 2, 2,\n",
       "       2, 2, 2, 2, 2, 2, 2, 2, 2, 2, 2, 2, 2, 2, 2, 2, 2, 2, 2, 2, 2, 2,\n",
       "       2, 2, 2, 2, 2, 2, 2, 2, 2, 2, 2, 2, 2, 2, 2, 2, 2, 2])"
      ]
     },
     "execution_count": 4,
     "metadata": {},
     "output_type": "execute_result"
    }
   ],
   "source": [
    "iris.target"
   ]
  },
  {
   "cell_type": "markdown",
   "id": "81b53be1-091d-4491-b888-6d49d49e664f",
   "metadata": {},
   "source": [
    "The target values are encoded.  If you wish to see decode them, read on ..."
   ]
  },
  {
   "cell_type": "code",
   "execution_count": 5,
   "id": "b3a090f1-6b1c-4a3f-925e-69671c6dd606",
   "metadata": {},
   "outputs": [
    {
     "data": {
      "text/plain": [
       "array(['setosa', 'versicolor', 'virginica'], dtype='<U10')"
      ]
     },
     "execution_count": 5,
     "metadata": {},
     "output_type": "execute_result"
    }
   ],
   "source": [
    "iris.target_names"
   ]
  },
  {
   "cell_type": "code",
   "execution_count": 6,
   "id": "edb4db58-8e4e-4734-8acd-565128e978ff",
   "metadata": {},
   "outputs": [
    {
     "name": "stdout",
     "output_type": "stream",
     "text": [
      "0 -> setosa\n",
      "1 -> versicolor\n",
      "2 -> virginica\n"
     ]
    }
   ],
   "source": [
    "print( '0 -> ' + iris.target_names[0])\n",
    "print( '1 -> ' + iris.target_names[1])\n",
    "print( '2 -> ' + iris.target_names[2])"
   ]
  },
  {
   "cell_type": "markdown",
   "id": "09db16d2-f455-43fc-80e0-ba7925ab9867",
   "metadata": {},
   "source": [
    "### Scikit-learn conventions\n",
    "\n",
    "Scikit-learn has a convention of using:\n",
    "\n",
    " - Uppercase `X` for the variable containing feature data\n",
    " - Lowercase `y` for the variable containting the target\n",
    " \n",
    "This convention was followed in the previous notebook, i.e."
   ]
  },
  {
   "cell_type": "code",
   "execution_count": 7,
   "id": "483beb90-87d7-4319-aa92-93ace48cf7ae",
   "metadata": {},
   "outputs": [],
   "source": [
    "X, y = iris.data, iris.target"
   ]
  },
  {
   "cell_type": "markdown",
   "id": "95ca25aa-cd00-4579-88a1-4b4ce24a9778",
   "metadata": {},
   "source": [
    "### Summary\n",
    "\n",
    "In this section, you learnt how to work with the built in datasets with Scikit-learn.\n",
    "\n",
    "Bookmark the Scikit-learn [docs](https://scikit-learn.org/stable/modules/classes.html#module-sklearn.datasets) page for more information on the included datasets.\n",
    "\n",
    "---\n",
    "\n",
    "### Navigation\n",
    "\n",
    "[Previous](./03_first_steps_with_machine_learning.ipynb) | [Home](./00-README-FIRST.ipynb) | [Next](./05_ML_approaches_and_algorithms.ipynb) notebook\n",
    "\n",
    "---"
   ]
  },
  {
   "cell_type": "markdown",
   "id": "4c1644fb-db53-454e-8ca4-bf50d40bb4ea",
   "metadata": {},
   "source": [
    "**Solution for the exercise**\n",
    "\n",
    "You can print the description of the Scikit-learn Iris dataset using:\n",
    "\n",
    "```python\n",
    "from sklearn.datasets import load_iris\n",
    "iris = load_iris()\n",
    "\n",
    "print(iris.DESCR)\n",
    "```\n"
   ]
  },
  {
   "cell_type": "code",
   "execution_count": null,
   "id": "5f56dd2b-e7ab-467a-a013-7ca66d2fe811",
   "metadata": {},
   "outputs": [],
   "source": []
  }
 ],
 "metadata": {
  "kernelspec": {
   "display_name": "Python 3 (ipykernel)",
   "language": "python",
   "name": "python3"
  },
  "language_info": {
   "codemirror_mode": {
    "name": "ipython",
    "version": 3
   },
   "file_extension": ".py",
   "mimetype": "text/x-python",
   "name": "python",
   "nbconvert_exporter": "python",
   "pygments_lexer": "ipython3",
   "version": "3.9.7"
  }
 },
 "nbformat": 4,
 "nbformat_minor": 5
}
