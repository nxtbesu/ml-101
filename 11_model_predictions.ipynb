{
 "cells": [
  {
   "cell_type": "markdown",
   "metadata": {},
   "source": [
    "### Introduction\n",
    "\n",
    "In notebook [03 first steps with machine learning](./03_first_steps_with_machine_learning.ipynb) we used a method `predict()` on the model to predict the class of a new Iris:\n",
    "\n",
    "```python\n",
    "prediction = model.predict(X_new)\n",
    "\n",
    "str(prediction) # -> [2] ... class 2 predicted\n",
    "```"
   ]
  },
  {
   "cell_type": "markdown",
   "metadata": {},
   "source": [
    "### Calling predict on a saved model\n",
    "\n",
    "We can also call `predict()` on a saved model, for example:"
   ]
  },
  {
   "cell_type": "code",
   "execution_count": 2,
   "metadata": {},
   "outputs": [
    {
     "data": {
      "text/plain": [
       "'[2]'"
      ]
     },
     "execution_count": 2,
     "metadata": {},
     "output_type": "execute_result"
    }
   ],
   "source": [
    "# set the random state to make the examples repeatable\n",
    "import numpy as np\n",
    "np.random.seed(1)\n",
    "\n",
    "from joblib import dump, load\n",
    "\n",
    "model_file = load('iris_model.joblib') \n",
    "\n",
    "new_sepal_length = 5.9\n",
    "new_sepal_width = 3.0\n",
    "new_petal_length = 5.1\n",
    "new_petal_width = 1.8\n",
    "\n",
    "X_new = [ \n",
    "    [ new_sepal_length, new_sepal_width, new_petal_length, new_petal_width ] \n",
    "]\n",
    "\n",
    "prediction = model_file.predict(X_new)\n",
    "\n",
    "str(prediction)"
   ]
  },
  {
   "cell_type": "markdown",
   "metadata": {},
   "source": [
    "This allows us to share models, for example with the team responsible for deploying models."
   ]
  },
  {
   "cell_type": "markdown",
   "metadata": {},
   "source": [
    "### Predicting multiple values\n",
    "\n",
    "In the example about, you can see that `X_new` is an array of arrays.  This allows you to make multiple predictions with a single call.\n",
    "\n",
    "**Excercise:** \n",
    "\n",
    "Prediction the classes for the two Iris flowers, below:\n",
    "\n",
    "```python\n",
    "    [ 6.0, 3.0, 5.0, 2.0 ],\n",
    "    [ 5.0, 3.0, 5.1, 0.1 ]\n",
    "```\n",
    "\n",
    "What are the predicted classes?"
   ]
  },
  {
   "cell_type": "markdown",
   "metadata": {},
   "source": [
    "---\n",
    "### Navigation\n",
    "\n",
    "[Previous](./10_model_persistence.ipynb) | [Home](./00-README-FIRST.ipynb) | [Next](./12_dataset_transformations.ipynb) notebook\n",
    "\n",
    "---"
   ]
  },
  {
   "cell_type": "markdown",
   "metadata": {},
   "source": [
    "\n",
    "**Solution for the exercise**\n",
    "\n",
    "The answer to the exercise is `[2 1]`.  The code is:\n",
    "\n",
    "```python\n",
    "X_new = [ \n",
    "    [ 6.0, 3.0, 5.0, 2.0 ],\n",
    "    [ 5.0, 3.0, 5.1, 0.1 ] \n",
    "]\n",
    "prediction = model_file.predict(X_new)\n",
    "str(prediction) # --> [2 1]\n",
    "```\n",
    "    \n",
    "</div>"
   ]
  },
  {
   "cell_type": "code",
   "execution_count": null,
   "metadata": {},
   "outputs": [],
   "source": []
  }
 ],
 "metadata": {
  "kernelspec": {
   "display_name": "Python 3",
   "language": "python",
   "name": "python3"
  },
  "language_info": {
   "codemirror_mode": {
    "name": "ipython",
    "version": 3
   },
   "file_extension": ".py",
   "mimetype": "text/x-python",
   "name": "python",
   "nbconvert_exporter": "python",
   "pygments_lexer": "ipython3",
   "version": "3.8.5"
  }
 },
 "nbformat": 4,
 "nbformat_minor": 5
}
