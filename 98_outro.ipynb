{
 "cells": [
  {
   "cell_type": "markdown",
   "id": "b31ea411-d6df-45d0-99e9-9541438d66b0",
   "metadata": {},
   "source": [
    "### Introduction\n",
    "\n",
    "This section provides resources for those wishing to further their journey into Machine Learning and AI."
   ]
  },
  {
   "cell_type": "markdown",
   "id": "8933bd8b-0418-47f3-b8c1-c1bc4308d085",
   "metadata": {},
   "source": [
    "### Further learning"
   ]
  },
  {
   "cell_type": "markdown",
   "id": "930a46de-3911-4ab7-bdd0-b31b759b4bcb",
   "metadata": {},
   "source": [
    "#### Machine Learning\n",
    "\n",
    "This is probably the most popular free course for those wishing to understand machine learning theory and application\n",
    "\n",
    "> ... you'll learn about not only the theoretical underpinnings of learning, but also gain the practical know-how needed to quickly and powerfully apply these techniques to new problems ...\n",
    ">\n",
    "> This course provides a broad introduction to machine learning, datamining, and statistical pattern recognition. Topics include: (i) Supervised learning (parametric/non-parametric algorithms, support vector machines, kernels, neural networks). (ii) Unsupervised learning (clustering, dimensionality reduction, recommender systems, deep learning). (iii) Best practices in machine learning (bias/variance theory; innovation process in machine learning and AI). The course will also draw from numerous case studies and applications, so that you'll also learn how to apply learning algorithms to building smart robots (perception, control), text understanding (web search, anti-spam), computer vision, medical informatics, audio, database mining, and other areas.\n",
    ">\n",
    "> Source: https://www.coursera.org/learn/machine-learning\n"
   ]
  },
  {
   "cell_type": "markdown",
   "id": "43f980f2-67fb-4689-a8e3-9a6ceb201483",
   "metadata": {},
   "source": [
    "#### Numpy\n",
    "\n",
    "NumPy is an open source project aiming to enable numerical computing with Python.  This tool is a must have for those working on machine learning  with Python.\n",
    "\n",
    "The Numpy website is available here: https://numpy.org/\n",
    "\n",
    "The website provides resources for learning Numpy: https://numpy.org/learn/\n"
   ]
  },
  {
   "cell_type": "markdown",
   "id": "ab321285-09ad-4328-bbf5-87d77c88f58c",
   "metadata": {},
   "source": [
    "#### Pandas\n",
    "\n",
    "Pandas is open source data analysis and manipulation tool, built on top of the Python programming language.  This tool is a must have for those working on machine learning  with Python. I would recommend getting a good understanding of numpy before learning Pandas.\n",
    "\n",
    "The Pandas website is available here. https://pandas.pydata.org/\n",
    "\n",
    "There are a bunch of free videos on Youtube for learning pandas such as [this one](https://www.youtube.com/watch?v=PfVxFV1ZPnk)."
   ]
  },
  {
   "cell_type": "markdown",
   "id": "fbf7f923-c64e-4aa6-8d1e-cbe3205fda95",
   "metadata": {},
   "source": [
    "#### Seaborn\n",
    "\n",
    "Seaborn is a Python data visualization library based on matplotlib. It provides a high-level interface for drawing attractive and informative statistical graphics.\n",
    "\n",
    "The Seaborn website is available here: https://seaborn.pydata.org/"
   ]
  },
  {
   "cell_type": "markdown",
   "id": "957a8831-ec14-4a50-ad60-5b9eb30f6052",
   "metadata": {},
   "source": [
    "#### Matplotlib\n",
    "\n",
    "Matplotlib is a comprehensive library for creating static, animated, and interactive visualizations in Python. Matplotlib makes easy things easy and hard things possible.\n",
    "\n",
    "The Matplotlib website is available here: https://matplotlib.org/"
   ]
  },
  {
   "cell_type": "markdown",
   "id": "a9785719-4f54-4eb4-82f2-1a619a6d0087",
   "metadata": {},
   "source": [
    "#### Spark\n",
    "\n",
    "Scikit-learn assumes your data can be worked on with a single machine.  If you are working with big data, you can use scalable libraries like Apache Spark.\n",
    "\n",
    "Apache Spark™ is a multi-language engine for executing data engineering, data science, and machine learning on single-node machines or clusters.\n",
    "\n",
    "Spark 101 workshop coming soon - https://hackshack.hpedev.io/workshops"
   ]
  },
  {
   "cell_type": "markdown",
   "id": "8621b4fa-2e1a-4f83-93fe-1e54d0f6258f",
   "metadata": {},
   "source": [
    "#### Deep Learning\n",
    "\n",
    "> Deep learning (also known as deep structured learning) is part of a broader family of machine learning methods based on artificial neural networks with representation learning. Learning can be supervised, semi-supervised or unsupervised.\n",
    "> \n",
    ">   *Source https://en.wikipedia.org/wiki/Deep_learning*\n",
    "\n",
    "HPE Dev has a workshop for deep learning:\n",
    "\n",
    "> Using an MNIST dataset (70,000 pictures of hand-written digits) you'll learn how to build a simple CNN and train it to solve a real problem with Keras (a deep learning library for Python.) On completion, you'll be able to predict a digit, given a picture of hand-written digits with 99% accuracy.\n",
    ">\n",
    "> https://hackshack.hpedev.io/workshop/12"
   ]
  },
  {
   "cell_type": "markdown",
   "id": "a38a8098-e748-4cfe-95a4-c8dcfc5fe9c4",
   "metadata": {},
   "source": [
    "### More Advanced Topics\n",
    "\n",
    "These topics are more advanced (perhaps 201's).  More info coming soon ...\n",
    "\n",
    "- Exploratory Analysis\n",
    "- Ensemble Methods and Pipelines\n",
    "- Feature Engineering\n",
    "- Reinforcement Learning\n",
    "- Dimensionality Reduction\n",
    "- Model Performance\n",
    "- HPO\n",
    "- Model Deployment, e.g. Seldon\n",
    "- MLFlow\n",
    "- Data Engineering, Delta Lake"
   ]
  },
  {
   "cell_type": "markdown",
   "id": "c06af7c2-07d1-4813-a0c2-8ba13189c814",
   "metadata": {},
   "source": [
    "---\n",
    "\n",
    "### Navigation\n",
    "\n",
    "[Home](./00-README-FIRST.ipynb)"
   ]
  },
  {
   "cell_type": "code",
   "execution_count": null,
   "id": "b57eb92e-eb10-47d4-b7b6-088bcd9faf8e",
   "metadata": {},
   "outputs": [],
   "source": []
  }
 ],
 "metadata": {
  "kernelspec": {
   "display_name": "Python 3 (ipykernel)",
   "language": "python",
   "name": "python3"
  },
  "language_info": {
   "codemirror_mode": {
    "name": "ipython",
    "version": 3
   },
   "file_extension": ".py",
   "mimetype": "text/x-python",
   "name": "python",
   "nbconvert_exporter": "python",
   "pygments_lexer": "ipython3",
   "version": "3.9.7"
  }
 },
 "nbformat": 4,
 "nbformat_minor": 5
}
