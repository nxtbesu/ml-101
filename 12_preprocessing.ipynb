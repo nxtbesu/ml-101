{
 "cells": [
  {
   "cell_type": "markdown",
   "metadata": {},
   "source": [
    "### Introduction\n",
    "\n",
    "We have deployed our model and it is successfully being used to determine the class of Iris flowers by botanists all over the world!\n",
    "\n",
    "Enjoying our success and the data science we have been doing, has resulted in us spending more time learning more about LinearSVC models.\n",
    "\n",
    "One thing we noticed in the [LinearSVC documentation](https://scikit-learn.org/stable/modules/svm.html#svm-classification) was the following:\n",
    "\n",
    "> Support Vector Machine algorithms are not scale invariant, so it is highly recommended to scale your data.\n",
    "\n",
    "Oh. What does 'scale your data' mean?\n"
   ]
  },
  {
   "cell_type": "markdown",
   "metadata": {
    "tags": []
   },
   "source": [
    "### Scaling Data\n",
    "\n",
    "There are many ways to scale data (see the [Appendix](#Appendix)).  A good starting point for learning about scalers is StandardScaler:\n",
    "\n",
    "> Standardize features by removing the mean and scaling to unit variance.\n",
    ">\n",
    "> *Source: https://scikit-learn.org/stable/modules/generated/sklearn.preprocessing.StandardScaler.html*\n",
    "\n",
    "We will try the StandardScaler, below:\n"
   ]
  },
  {
   "cell_type": "code",
   "execution_count": 1,
   "metadata": {},
   "outputs": [],
   "source": [
    "# ensure everyone running this code gets the same result\n",
    "import numpy as np\n",
    "np.random.seed(100)\n",
    "\n",
    "from sklearn import datasets\n",
    "from sklearn.model_selection import train_test_split\n",
    "from sklearn.preprocessing import StandardScaler\n",
    "iris = datasets.load_iris()\n",
    "X = iris.data\n",
    "y = iris.target\n",
    "X_train, X_test, y_train, y_test = train_test_split(X, y, test_size=0.33)\n",
    "\n",
    "# We 'fit' the StandardScaler on the training data\n",
    "std_slc = StandardScaler()\n",
    "std_slc.fit(X_train)\n",
    "\n",
    "# We can then use the scaler to transform out training and test datasets\n",
    "X_train_std = std_slc.transform(X_train)\n",
    "X_test_std = std_slc.transform(X_test)"
   ]
  },
  {
   "cell_type": "markdown",
   "metadata": {
    "tags": []
   },
   "source": [
    "Next we can print out the datasets.  We wrap the datasets with pandas dataframes to give us easier to read tables."
   ]
  },
  {
   "cell_type": "code",
   "execution_count": 2,
   "metadata": {},
   "outputs": [],
   "source": [
    "import pandas as pd\n",
    "X_train_df = pd.DataFrame(X_train, columns=[\"Sepal Length\", \"Sepal Width\", \"Petal Length\", \"Petal Width\"])\n",
    "X_train_std_df = pd.DataFrame(X_train_std, columns=[\"Sepal Length\", \"Sepal Width\", \"Petal Length\", \"Petal Width\"])"
   ]
  },
  {
   "cell_type": "markdown",
   "metadata": {
    "tags": []
   },
   "source": [
    "Let's look at the first few records of the unscaled and the scaled dataset"
   ]
  },
  {
   "cell_type": "code",
   "execution_count": 3,
   "metadata": {},
   "outputs": [
    {
     "data": {
      "text/html": [
       "<div>\n",
       "<style scoped>\n",
       "    .dataframe tbody tr th:only-of-type {\n",
       "        vertical-align: middle;\n",
       "    }\n",
       "\n",
       "    .dataframe tbody tr th {\n",
       "        vertical-align: top;\n",
       "    }\n",
       "\n",
       "    .dataframe thead th {\n",
       "        text-align: right;\n",
       "    }\n",
       "</style>\n",
       "<table border=\"1\" class=\"dataframe\">\n",
       "  <thead>\n",
       "    <tr style=\"text-align: right;\">\n",
       "      <th></th>\n",
       "      <th>Sepal Length</th>\n",
       "      <th>Sepal Width</th>\n",
       "      <th>Petal Length</th>\n",
       "      <th>Petal Width</th>\n",
       "    </tr>\n",
       "  </thead>\n",
       "  <tbody>\n",
       "    <tr>\n",
       "      <th>0</th>\n",
       "      <td>5.1</td>\n",
       "      <td>3.3</td>\n",
       "      <td>1.7</td>\n",
       "      <td>0.5</td>\n",
       "    </tr>\n",
       "    <tr>\n",
       "      <th>1</th>\n",
       "      <td>5.0</td>\n",
       "      <td>3.2</td>\n",
       "      <td>1.2</td>\n",
       "      <td>0.2</td>\n",
       "    </tr>\n",
       "    <tr>\n",
       "      <th>2</th>\n",
       "      <td>6.5</td>\n",
       "      <td>2.8</td>\n",
       "      <td>4.6</td>\n",
       "      <td>1.5</td>\n",
       "    </tr>\n",
       "    <tr>\n",
       "      <th>3</th>\n",
       "      <td>7.9</td>\n",
       "      <td>3.8</td>\n",
       "      <td>6.4</td>\n",
       "      <td>2.0</td>\n",
       "    </tr>\n",
       "    <tr>\n",
       "      <th>4</th>\n",
       "      <td>6.1</td>\n",
       "      <td>3.0</td>\n",
       "      <td>4.9</td>\n",
       "      <td>1.8</td>\n",
       "    </tr>\n",
       "  </tbody>\n",
       "</table>\n",
       "</div>"
      ],
      "text/plain": [
       "   Sepal Length  Sepal Width  Petal Length  Petal Width\n",
       "0           5.1          3.3           1.7          0.5\n",
       "1           5.0          3.2           1.2          0.2\n",
       "2           6.5          2.8           4.6          1.5\n",
       "3           7.9          3.8           6.4          2.0\n",
       "4           6.1          3.0           4.9          1.8"
      ]
     },
     "metadata": {},
     "output_type": "display_data"
    },
    {
     "data": {
      "text/html": [
       "<div>\n",
       "<style scoped>\n",
       "    .dataframe tbody tr th:only-of-type {\n",
       "        vertical-align: middle;\n",
       "    }\n",
       "\n",
       "    .dataframe tbody tr th {\n",
       "        vertical-align: top;\n",
       "    }\n",
       "\n",
       "    .dataframe thead th {\n",
       "        text-align: right;\n",
       "    }\n",
       "</style>\n",
       "<table border=\"1\" class=\"dataframe\">\n",
       "  <thead>\n",
       "    <tr style=\"text-align: right;\">\n",
       "      <th></th>\n",
       "      <th>Sepal Length</th>\n",
       "      <th>Sepal Width</th>\n",
       "      <th>Petal Length</th>\n",
       "      <th>Petal Width</th>\n",
       "    </tr>\n",
       "  </thead>\n",
       "  <tbody>\n",
       "    <tr>\n",
       "      <th>0</th>\n",
       "      <td>-0.916069</td>\n",
       "      <td>0.595736</td>\n",
       "      <td>-1.251745</td>\n",
       "      <td>-0.998077</td>\n",
       "    </tr>\n",
       "    <tr>\n",
       "      <th>1</th>\n",
       "      <td>-1.040535</td>\n",
       "      <td>0.356485</td>\n",
       "      <td>-1.546968</td>\n",
       "      <td>-1.413942</td>\n",
       "    </tr>\n",
       "    <tr>\n",
       "      <th>2</th>\n",
       "      <td>0.826454</td>\n",
       "      <td>-0.600521</td>\n",
       "      <td>0.460548</td>\n",
       "      <td>0.388141</td>\n",
       "    </tr>\n",
       "    <tr>\n",
       "      <th>3</th>\n",
       "      <td>2.568977</td>\n",
       "      <td>1.791994</td>\n",
       "      <td>1.523351</td>\n",
       "      <td>1.081250</td>\n",
       "    </tr>\n",
       "    <tr>\n",
       "      <th>4</th>\n",
       "      <td>0.328590</td>\n",
       "      <td>-0.122018</td>\n",
       "      <td>0.637682</td>\n",
       "      <td>0.804006</td>\n",
       "    </tr>\n",
       "  </tbody>\n",
       "</table>\n",
       "</div>"
      ],
      "text/plain": [
       "   Sepal Length  Sepal Width  Petal Length  Petal Width\n",
       "0     -0.916069     0.595736     -1.251745    -0.998077\n",
       "1     -1.040535     0.356485     -1.546968    -1.413942\n",
       "2      0.826454    -0.600521      0.460548     0.388141\n",
       "3      2.568977     1.791994      1.523351     1.081250\n",
       "4      0.328590    -0.122018      0.637682     0.804006"
      ]
     },
     "metadata": {},
     "output_type": "display_data"
    }
   ],
   "source": [
    "display(X_train_df.head())\n",
    "display(X_train_std_df.head())"
   ]
  },
  {
   "cell_type": "markdown",
   "metadata": {
    "tags": []
   },
   "source": [
    "We won't describe in detail the scaling process because that is covered in the StandardScaler documentation.\n",
    "\n",
    "However, let's revist the description of the StandardScaler:\n",
    "\n",
    "> Standardize features by removing the mean and scaling to unit variance\n"
   ]
  },
  {
   "cell_type": "markdown",
   "metadata": {
    "tags": []
   },
   "source": [
    "We can print out the mean and variance as follows (note that we are looking at Sepal Width):"
   ]
  },
  {
   "cell_type": "code",
   "execution_count": 4,
   "metadata": {},
   "outputs": [
    {
     "name": "stdout",
     "output_type": "stream",
     "text": [
      "---\n",
      "Unscaled Mean:     3.0509999999999993\n",
      "Scaled Mean:       6.483702463810914e-16\n",
      "\n",
      "Unscaled Variance: 0.17646363636363638\n",
      "Scaled Variance:   1.0101010101010097\n",
      "---\n"
     ]
    }
   ],
   "source": [
    "print(\"---\")\n",
    "print(\"Unscaled Mean:     \" + str(X_train_df['Sepal Width'].mean()))\n",
    "print(\"Scaled Mean:       \" + str(X_train_std_df['Sepal Width'].mean()))\n",
    "print(\"\")\n",
    "print(\"Unscaled Variance: \" + str(X_train_df['Sepal Width'].var()))\n",
    "print(\"Scaled Variance:   \" + str(X_train_std_df['Sepal Width'].var()))\n",
    "print(\"---\")"
   ]
  },
  {
   "cell_type": "markdown",
   "metadata": {
    "tags": []
   },
   "source": [
    "You can see that the scaled mean is approximately zero and the variance is approximately one.\n",
    "\n",
    "This can be viewed graphically:"
   ]
  },
  {
   "cell_type": "code",
   "execution_count": 5,
   "metadata": {},
   "outputs": [
    {
     "data": {
      "text/plain": [
       "<AxesSubplot:ylabel='Frequency'>"
      ]
     },
     "metadata": {},
     "output_type": "display_data"
    },
    {
     "data": {
      "text/plain": [
       "<AxesSubplot:ylabel='Frequency'>"
      ]
     },
     "metadata": {},
     "output_type": "display_data"
    },
    {
     "data": {
      "image/png": "[encoded data removed]",
      "text/plain": [
       "<Figure size 432x288 with 1 Axes>"
      ]
     },
     "metadata": {
      "needs_background": "light"
     },
     "output_type": "display_data"
    }
   ],
   "source": [
    "display(X_train_df['Sepal Width'].rename(\"Unscaled Sepal Width\").plot.hist(legend=True))\n",
    "display(X_train_std_df['Sepal Width'].rename(\"Scaled Sepal Width\").plot.hist(legend=True))"
   ]
  },
  {
   "cell_type": "markdown",
   "metadata": {
    "tags": []
   },
   "source": [
    "**Exercise 12.01:**\n",
    "    \n",
    "Explore the mean and variance for the other features."
   ]
  },
  {
   "cell_type": "markdown",
   "metadata": {
    "tags": []
   },
   "source": [
    "### Anti-pattern: Inconsistent Preprocessing\n",
    "\n",
    "\n",
    ">  If ... data transforms are used when training a model, they also must be used on subsequent datasets, whether it’s test data or data in a production system. Otherwise, the feature space will change, and the model will not be able to perform effectively.\n",
    ">\n",
    "> https://scikit-learn.org/stable/common_pitfalls.html#inconsistent-preprocessing\n",
    "\n",
    "To summarise the above; if we transform our training data then we must also transform the test data and the data being used to make inferences in production.\n",
    "\n",
    "To understand why this is important, let's create a new Iris classifier, but this time using a [DecisionTreeClassifier](https://scikit-learn.org/stable/modules/tree.html#tree-classification).  Note that we are NOT scaling the training data.\n",
    "\n"
   ]
  },
  {
   "cell_type": "code",
   "execution_count": 6,
   "metadata": {},
   "outputs": [
    {
     "data": {
      "image/svg+xml": [
       "<?xml version=\"1.0\" encoding=\"UTF-8\" standalone=\"no\"?>\n",
       "<!DOCTYPE svg PUBLIC \"-//W3C//DTD SVG 1.1//EN\"\n",
       " \"http://www.w3.org/Graphics/SVG/1.1/DTD/svg11.dtd\">\n",
       "<!-- Generated by graphviz version 2.42.3 (20191010.1750)\n",
       " -->\n",
       "<!-- Title: Tree Pages: 1 -->\n",
       "<svg width=\"410pt\" height=\"314pt\"\n",
       " viewBox=\"0.00 0.00 410.00 314.00\" xmlns=\"http://www.w3.org/2000/svg\" xmlns:xlink=\"http://www.w3.org/1999/xlink\">\n",
       "<g id=\"graph0\" class=\"graph\" transform=\"scale(1 1) rotate(0) translate(4 310)\">\n",
       "<title>Tree</title>\n",
       "<polygon fill=\"white\" stroke=\"transparent\" points=\"-4,4 -4,-310 406,-310 406,4 -4,4\"/>\n",
       "<!-- 0 -->\n",
       "<g id=\"node1\" class=\"node\">\n",
       "<title>0</title>\n",
       "<path fill=\"#ffffff\" stroke=\"black\" d=\"M244,-306C244,-306 77,-306 77,-306 71,-306 65,-300 65,-294 65,-294 65,-235 65,-235 65,-229 71,-223 77,-223 77,-223 244,-223 244,-223 250,-223 256,-229 256,-235 256,-235 256,-294 256,-294 256,-300 250,-306 244,-306\"/>\n",
       "<text text-anchor=\"start\" x=\"73\" y=\"-290.8\" font-family=\"Helvetica,sans-Serif\" font-size=\"14.00\">petal length (cm) ≤ 2.45</text>\n",
       "<text text-anchor=\"start\" x=\"116.5\" y=\"-275.8\" font-family=\"Helvetica,sans-Serif\" font-size=\"14.00\">gini = 0.667</text>\n",
       "<text text-anchor=\"start\" x=\"106\" y=\"-260.8\" font-family=\"Helvetica,sans-Serif\" font-size=\"14.00\">samples = 150</text>\n",
       "<text text-anchor=\"start\" x=\"89\" y=\"-245.8\" font-family=\"Helvetica,sans-Serif\" font-size=\"14.00\">value = [50, 50, 50]</text>\n",
       "<text text-anchor=\"start\" x=\"108.5\" y=\"-230.8\" font-family=\"Helvetica,sans-Serif\" font-size=\"14.00\">class = setosa</text>\n",
       "</g>\n",
       "<!-- 1 -->\n",
       "<g id=\"node2\" class=\"node\">\n",
       "<title>1</title>\n",
       "<path fill=\"#e58139\" stroke=\"black\" d=\"M129,-179.5C129,-179.5 12,-179.5 12,-179.5 6,-179.5 0,-173.5 0,-167.5 0,-167.5 0,-123.5 0,-123.5 0,-117.5 6,-111.5 12,-111.5 12,-111.5 129,-111.5 129,-111.5 135,-111.5 141,-117.5 141,-123.5 141,-123.5 141,-167.5 141,-167.5 141,-173.5 135,-179.5 129,-179.5\"/>\n",
       "<text text-anchor=\"start\" x=\"35.5\" y=\"-164.3\" font-family=\"Helvetica,sans-Serif\" font-size=\"14.00\">gini = 0.0</text>\n",
       "<text text-anchor=\"start\" x=\"20.5\" y=\"-149.3\" font-family=\"Helvetica,sans-Serif\" font-size=\"14.00\">samples = 50</text>\n",
       "<text text-anchor=\"start\" x=\"8\" y=\"-134.3\" font-family=\"Helvetica,sans-Serif\" font-size=\"14.00\">value = [50, 0, 0]</text>\n",
       "<text text-anchor=\"start\" x=\"18.5\" y=\"-119.3\" font-family=\"Helvetica,sans-Serif\" font-size=\"14.00\">class = setosa</text>\n",
       "</g>\n",
       "<!-- 0&#45;&gt;1 -->\n",
       "<g id=\"edge1\" class=\"edge\">\n",
       "<title>0&#45;&gt;1</title>\n",
       "<path fill=\"none\" stroke=\"black\" d=\"M129.27,-222.91C120.53,-211.54 111.02,-199.18 102.25,-187.77\"/>\n",
       "<polygon fill=\"black\" stroke=\"black\" points=\"104.88,-185.46 96.01,-179.67 99.34,-189.73 104.88,-185.46\"/>\n",
       "<text text-anchor=\"middle\" x=\"92.78\" y=\"-200.76\" font-family=\"Helvetica,sans-Serif\" font-size=\"14.00\">True</text>\n",
       "</g>\n",
       "<!-- 2 -->\n",
       "<g id=\"node3\" class=\"node\">\n",
       "<title>2</title>\n",
       "<path fill=\"#ffffff\" stroke=\"black\" d=\"M332,-187C332,-187 171,-187 171,-187 165,-187 159,-181 159,-175 159,-175 159,-116 159,-116 159,-110 165,-104 171,-104 171,-104 332,-104 332,-104 338,-104 344,-110 344,-116 344,-116 344,-175 344,-175 344,-181 338,-187 332,-187\"/>\n",
       "<text text-anchor=\"start\" x=\"167\" y=\"-171.8\" font-family=\"Helvetica,sans-Serif\" font-size=\"14.00\">petal width (cm) ≤ 1.75</text>\n",
       "<text text-anchor=\"start\" x=\"216.5\" y=\"-156.8\" font-family=\"Helvetica,sans-Serif\" font-size=\"14.00\">gini = 0.5</text>\n",
       "<text text-anchor=\"start\" x=\"197\" y=\"-141.8\" font-family=\"Helvetica,sans-Serif\" font-size=\"14.00\">samples = 100</text>\n",
       "<text text-anchor=\"start\" x=\"184.5\" y=\"-126.8\" font-family=\"Helvetica,sans-Serif\" font-size=\"14.00\">value = [0, 50, 50]</text>\n",
       "<text text-anchor=\"start\" x=\"188\" y=\"-111.8\" font-family=\"Helvetica,sans-Serif\" font-size=\"14.00\">class = versicolor</text>\n",
       "</g>\n",
       "<!-- 0&#45;&gt;2 -->\n",
       "<g id=\"edge2\" class=\"edge\">\n",
       "<title>0&#45;&gt;2</title>\n",
       "<path fill=\"none\" stroke=\"black\" d=\"M192.07,-222.91C199.06,-213.92 206.53,-204.32 213.74,-195.05\"/>\n",
       "<polygon fill=\"black\" stroke=\"black\" points=\"216.61,-197.06 219.98,-187.02 211.08,-192.77 216.61,-197.06\"/>\n",
       "<text text-anchor=\"middle\" x=\"223.08\" y=\"-208.13\" font-family=\"Helvetica,sans-Serif\" font-size=\"14.00\">False</text>\n",
       "</g>\n",
       "<!-- 3 -->\n",
       "<g id=\"node4\" class=\"node\">\n",
       "<title>3</title>\n",
       "<path fill=\"#4de88e\" stroke=\"black\" d=\"M231,-68C231,-68 112,-68 112,-68 106,-68 100,-62 100,-56 100,-56 100,-12 100,-12 100,-6 106,0 112,0 112,0 231,0 231,0 237,0 243,-6 243,-12 243,-12 243,-56 243,-56 243,-62 237,-68 231,-68\"/>\n",
       "<text text-anchor=\"start\" x=\"127.5\" y=\"-52.8\" font-family=\"Helvetica,sans-Serif\" font-size=\"14.00\">gini = 0.168</text>\n",
       "<text text-anchor=\"start\" x=\"121.5\" y=\"-37.8\" font-family=\"Helvetica,sans-Serif\" font-size=\"14.00\">samples = 54</text>\n",
       "<text text-anchor=\"start\" x=\"109\" y=\"-22.8\" font-family=\"Helvetica,sans-Serif\" font-size=\"14.00\">value = [0, 49, 5]</text>\n",
       "<text text-anchor=\"start\" x=\"108\" y=\"-7.8\" font-family=\"Helvetica,sans-Serif\" font-size=\"14.00\">class = versicolor</text>\n",
       "</g>\n",
       "<!-- 2&#45;&gt;3 -->\n",
       "<g id=\"edge3\" class=\"edge\">\n",
       "<title>2&#45;&gt;3</title>\n",
       "<path fill=\"none\" stroke=\"black\" d=\"M221.71,-103.73C215.25,-94.88 208.4,-85.51 201.91,-76.63\"/>\n",
       "<polygon fill=\"black\" stroke=\"black\" points=\"204.55,-74.31 195.83,-68.3 198.9,-78.44 204.55,-74.31\"/>\n",
       "</g>\n",
       "<!-- 4 -->\n",
       "<g id=\"node5\" class=\"node\">\n",
       "<title>4</title>\n",
       "<path fill=\"#843de6\" stroke=\"black\" d=\"M390,-68C390,-68 273,-68 273,-68 267,-68 261,-62 261,-56 261,-56 261,-12 261,-12 261,-6 267,0 273,0 273,0 390,0 390,0 396,0 402,-6 402,-12 402,-12 402,-56 402,-56 402,-62 396,-68 390,-68\"/>\n",
       "<text text-anchor=\"start\" x=\"287.5\" y=\"-52.8\" font-family=\"Helvetica,sans-Serif\" font-size=\"14.00\">gini = 0.043</text>\n",
       "<text text-anchor=\"start\" x=\"281.5\" y=\"-37.8\" font-family=\"Helvetica,sans-Serif\" font-size=\"14.00\">samples = 46</text>\n",
       "<text text-anchor=\"start\" x=\"269\" y=\"-22.8\" font-family=\"Helvetica,sans-Serif\" font-size=\"14.00\">value = [0, 1, 45]</text>\n",
       "<text text-anchor=\"start\" x=\"273\" y=\"-7.8\" font-family=\"Helvetica,sans-Serif\" font-size=\"14.00\">class = virginica</text>\n",
       "</g>\n",
       "<!-- 2&#45;&gt;4 -->\n",
       "<g id=\"edge4\" class=\"edge\">\n",
       "<title>2&#45;&gt;4</title>\n",
       "<path fill=\"none\" stroke=\"black\" d=\"M281.29,-103.73C287.75,-94.88 294.6,-85.51 301.09,-76.63\"/>\n",
       "<polygon fill=\"black\" stroke=\"black\" points=\"304.1,-78.44 307.17,-68.3 298.45,-74.31 304.1,-78.44\"/>\n",
       "</g>\n",
       "</g>\n",
       "</svg>\n"
      ],
      "text/plain": [
       "<graphviz.files.Source at 0x7f1897941a00>"
      ]
     },
     "execution_count": 6,
     "metadata": {},
     "output_type": "execute_result"
    }
   ],
   "source": [
    "# ensure everyone running this code gets the same result\n",
    "import numpy as np\n",
    "np.random.seed(100)\n",
    "\n",
    "# train the decision tree classifier\n",
    "from sklearn.datasets import load_iris\n",
    "from sklearn import tree\n",
    "iris = load_iris()\n",
    "X, y = iris.data, iris.target\n",
    "clf = tree.DecisionTreeClassifier(max_depth=2)\n",
    "clf = clf.fit(X, y)\n",
    "\n",
    "# display the decision tree\n",
    "import graphviz \n",
    "dot_data = tree.export_graphviz(clf, out_file=None, \n",
    "                     feature_names=iris.feature_names,  \n",
    "                     class_names=iris.target_names,  \n",
    "                     filled=True, rounded=True,  \n",
    "                     special_characters=True)  \n",
    "graph = graphviz.Source(dot_data)  \n",
    "graph "
   ]
  },
  {
   "cell_type": "markdown",
   "metadata": {
    "tags": []
   },
   "source": [
    "Here we have made a decision tree with a depth of two `clf = tree.DecisionTreeClassifier(max_depth=2)`.  \n",
    "\n",
    "If we read from the top, we can see that if the `Petal length <= 2.45` the predicted class is `Setosa`.\n",
    "\n",
    "However, when we standardized the training data we 'shifted' the values. See the [box plots](https://en.wikipedia.org/wiki/Box_plot), below, comparing the Unscaled Petal Length values to the Scaled Petal Length values."
   ]
  },
  {
   "cell_type": "code",
   "execution_count": 7,
   "metadata": {},
   "outputs": [
    {
     "data": {
      "text/plain": [
       "Text(0.5, 1.0, 'Unscaled')"
      ]
     },
     "execution_count": 7,
     "metadata": {},
     "output_type": "execute_result"
    },
    {
     "data": {
      "image/png": "[encoded data removed]",
      "text/plain": [
       "<Figure size 432x288 with 1 Axes>"
      ]
     },
     "metadata": {
      "needs_background": "light"
     },
     "output_type": "display_data"
    }
   ],
   "source": [
    "X_train_df.boxplot(column='Petal Length').axes.set_title('Unscaled')"
   ]
  },
  {
   "cell_type": "code",
   "execution_count": 8,
   "metadata": {},
   "outputs": [
    {
     "data": {
      "text/plain": [
       "Text(0.5, 1.0, 'Scaled')"
      ]
     },
     "execution_count": 8,
     "metadata": {},
     "output_type": "execute_result"
    },
    {
     "data": {
      "image/png": "[encoded data removed]",
      "text/plain": [
       "<Figure size 432x288 with 1 Axes>"
      ]
     },
     "metadata": {
      "needs_background": "light"
     },
     "output_type": "display_data"
    }
   ],
   "source": [
    "X_train_std_df.boxplot(column='Petal Length').axes.set_title('Scaled')"
   ]
  },
  {
   "cell_type": "markdown",
   "metadata": {
    "tags": []
   },
   "source": [
    "Note that the scaled training data has been shifted compared to the unscaled data.\n",
    "\n",
    "So if we don't 'shift' the prediction data, the decision tree rules will be invalid.\n",
    "\n",
    "The first rule in the decision tree, based on unscaled data is `Petal length <= 2.45`.  However, the scaled Petal length values from the training data (as per the box chart) is approximately `-1.75` to `+1.75` **so no records would trigger the first rule**.\n"
   ]
  },
  {
   "cell_type": "markdown",
   "metadata": {
    "tags": []
   },
   "source": [
    "**Exercise 12.02**\n",
    "\n",
    "Experiment with the depth parameter on the DecisionTreeClassifier. \n",
    "\n",
    "Generally increasing the depth will create a more accurate model, but risks '[Overfitting](https://en.wikipedia.org/wiki/Overfitting)' the model to the training data."
   ]
  },
  {
   "cell_type": "markdown",
   "metadata": {
    "tags": []
   },
   "source": [
    "### Scaled Inference Example\n",
    "\n",
    "In this example, we create a scaler for the training data"
   ]
  },
  {
   "cell_type": "code",
   "execution_count": 13,
   "metadata": {},
   "outputs": [
    {
     "data": {
      "text/plain": [
       "['iris_data_scaler.joblib']"
      ]
     },
     "execution_count": 13,
     "metadata": {},
     "output_type": "execute_result"
    }
   ],
   "source": [
    "# set the random state to make the examples repeatable\n",
    "import numpy as np\n",
    "np.random.seed(1)\n",
    "\n",
    "from sklearn import datasets\n",
    "from sklearn.svm import LinearSVC\n",
    "from sklearn.model_selection import train_test_split\n",
    "from sklearn.preprocessing import StandardScaler\n",
    "iris = datasets.load_iris()\n",
    "X = iris.data\n",
    "y = iris.target\n",
    "X_train, X_test, y_train, y_test = train_test_split(X, y, test_size=0.33)\n",
    "\n",
    "# We 'fit' the StandardScaler on the training data\n",
    "std_slc = StandardScaler()\n",
    "std_slc.fit(X_train)\n",
    "\n",
    "X_train_std = std_slc.transform(X_train)\n",
    "X_test_std = std_slc.transform(X_test)\n",
    "\n",
    "classifier = LinearSVC()\n",
    "model = classifier.fit(X_train_std, y_train)\n",
    "\n",
    "# Testing the model is left as an exercise for the reader\n",
    "\n",
    "from joblib import dump\n",
    "dump(model, 'iris_model_scaled.joblib')\n",
    "dump(std_slc, 'iris_data_scaler.joblib')"
   ]
  },
  {
   "cell_type": "markdown",
   "metadata": {
    "tags": []
   },
   "source": [
    "Now let's make a prediction using the same feature data we used to make a prediction using an unscaled model in the [Previous](./11_model_predictions.ipynb) notebook."
   ]
  },
  {
   "cell_type": "code",
   "execution_count": 16,
   "metadata": {},
   "outputs": [
    {
     "name": "stdout",
     "output_type": "stream",
     "text": [
      "Scaled input features: [[ 0.11352823 -0.07994018  0.75731121  0.76873449]]\n",
      "Predicted class: [2]\n"
     ]
    }
   ],
   "source": [
    "# set the random state to make the examples repeatable\n",
    "import numpy as np\n",
    "np.random.seed(1)\n",
    "\n",
    "from joblib import load\n",
    "\n",
    "scaler_file = load('iris_data_scaler.joblib') \n",
    "model_file = load('iris_model_scaled.joblib') \n",
    "\n",
    "new_sepal_length = 5.9\n",
    "new_sepal_width = 3.0\n",
    "new_petal_length = 5.1\n",
    "new_petal_width = 1.8\n",
    "\n",
    "# Scale the input features\n",
    "X_new = scaler_file.transform([ \n",
    "    [ new_sepal_length, new_sepal_width, new_petal_length, new_petal_width ] \n",
    "])\n",
    "print(\"Scaled input features: \" + str(X_new))\n",
    "\n",
    "prediction = model_file.predict(X_new)\n",
    "print(\"Predicted class: \" + str(prediction))"
   ]
  },
  {
   "cell_type": "markdown",
   "metadata": {
    "tags": []
   },
   "source": [
    "**Excercise 12.03**\n",
    "\n",
    "Compare the results of the scaled model prediction to the unscaled model prediction in the [Previous](./11_model_predictions.ipynb) notebook.  The result should be the same."
   ]
  },
  {
   "cell_type": "markdown",
   "metadata": {
    "tags": []
   },
   "source": [
    "**Excercise 12.04**\n",
    "\n",
    "Read through the documentation and try the examples on:\n",
    "    \n",
    "- [Preprocessing](https://scikit-learn.org/stable/modules/preprocessing.html)\n",
    "- [Imputation of missing values](https://scikit-learn.org/stable/modules/impute.html)\n",
    "- [Feature Selection](https://scikit-learn.org/stable/modules/feature_selection.html)\n",
    "- [Feature Extrac"
   ]
  },
  {
   "cell_type": "markdown",
   "metadata": {},
   "source": [
    "---\n",
    "### Navigation\n",
    "\n",
    "[Previous](./11_model_predictions.ipynb) | [Home](./00-README-FIRST.ipynb) | [Next](./98_outro.ipynb) notebook\n",
    "\n",
    "---"
   ]
  },
  {
   "cell_type": "markdown",
   "metadata": {
    "tags": []
   },
   "source": [
    "<div class=\"alert-info\">\n",
    "\n",
    "### Appendix\n",
    "\n",
    "Other Scikit-learn scalers:\n",
    "\n",
    "- [sklearn.preprocessing.MinMaxScaler](https://scikit-learn.org/stable/modules/generated/sklearn.preprocessing.MinMaxScaler.html)\n",
    "- [sklearn.preprocessing.MaxAbsScaler](https://scikit-learn.org/stable/modules/generated/sklearn.preprocessing.MaxAbsScaler.html)\n",
    "- [sklearn.preprocessing.StandardScaler](https://scikit-learn.org/stable/modules/generated/sklearn.preprocessing.StandardScaler.html)\n",
    "- [sklearn.preprocessing.RobustScaler](https://scikit-learn.org/stable/modules/generated/sklearn.preprocessing.RobustScaler.html)\n",
    "- [sklearn.preprocessing.Normalizer](https://scikit-learn.org/stable/modules/generated/sklearn.preprocessing.Normalizer.html)\n",
    "- [sklearn.preprocessing.QuantileTransformer](https://scikit-learn.org/stable/modules/generated/sklearn.preprocessing.QuantileTransformer.html)\n",
    "- [sklearn.preprocessing.PowerTransformer](https://scikit-learn.org/stable/modules/generated/sklearn.preprocessing.PowerTransformer.html)\n",
    "\n",
    "</div>"
   ]
  },
  {
   "cell_type": "markdown",
   "metadata": {
    "tags": []
   },
   "source": [
    "**Solution for Exercise 12.01**\n",
    "\n",
    "There are a few solutions, here we augment the [describe method](https://pandas.pydata.org/docs/reference/api/pandas.DataFrame.describe.html) with a variance statistic:"
   ]
  },
  {
   "cell_type": "code",
   "execution_count": 11,
   "metadata": {},
   "outputs": [
    {
     "data": {
      "text/html": [
       "<div>\n",
       "<style scoped>\n",
       "    .dataframe tbody tr th:only-of-type {\n",
       "        vertical-align: middle;\n",
       "    }\n",
       "\n",
       "    .dataframe tbody tr th {\n",
       "        vertical-align: top;\n",
       "    }\n",
       "\n",
       "    .dataframe thead th {\n",
       "        text-align: right;\n",
       "    }\n",
       "</style>\n",
       "<table border=\"1\" class=\"dataframe\">\n",
       "  <thead>\n",
       "    <tr style=\"text-align: right;\">\n",
       "      <th></th>\n",
       "      <th>Sepal Length</th>\n",
       "      <th>Sepal Width</th>\n",
       "      <th>Petal Length</th>\n",
       "      <th>Petal Width</th>\n",
       "    </tr>\n",
       "  </thead>\n",
       "  <tbody>\n",
       "    <tr>\n",
       "      <th>count</th>\n",
       "      <td>100.000000</td>\n",
       "      <td>100.000000</td>\n",
       "      <td>100.000000</td>\n",
       "      <td>100.000000</td>\n",
       "    </tr>\n",
       "    <tr>\n",
       "      <th>mean</th>\n",
       "      <td>5.836000</td>\n",
       "      <td>3.051000</td>\n",
       "      <td>3.820000</td>\n",
       "      <td>1.220000</td>\n",
       "    </tr>\n",
       "    <tr>\n",
       "      <th>std</th>\n",
       "      <td>0.807480</td>\n",
       "      <td>0.420076</td>\n",
       "      <td>1.702167</td>\n",
       "      <td>0.725022</td>\n",
       "    </tr>\n",
       "    <tr>\n",
       "      <th>min</th>\n",
       "      <td>4.300000</td>\n",
       "      <td>2.000000</td>\n",
       "      <td>1.000000</td>\n",
       "      <td>0.100000</td>\n",
       "    </tr>\n",
       "    <tr>\n",
       "      <th>25%</th>\n",
       "      <td>5.100000</td>\n",
       "      <td>2.800000</td>\n",
       "      <td>1.675000</td>\n",
       "      <td>0.300000</td>\n",
       "    </tr>\n",
       "    <tr>\n",
       "      <th>50%</th>\n",
       "      <td>5.800000</td>\n",
       "      <td>3.000000</td>\n",
       "      <td>4.450000</td>\n",
       "      <td>1.400000</td>\n",
       "    </tr>\n",
       "    <tr>\n",
       "      <th>75%</th>\n",
       "      <td>6.400000</td>\n",
       "      <td>3.300000</td>\n",
       "      <td>5.100000</td>\n",
       "      <td>1.800000</td>\n",
       "    </tr>\n",
       "    <tr>\n",
       "      <th>max</th>\n",
       "      <td>7.900000</td>\n",
       "      <td>4.200000</td>\n",
       "      <td>6.700000</td>\n",
       "      <td>2.500000</td>\n",
       "    </tr>\n",
       "    <tr>\n",
       "      <th>variance</th>\n",
       "      <td>0.652024</td>\n",
       "      <td>0.176464</td>\n",
       "      <td>2.897374</td>\n",
       "      <td>0.525657</td>\n",
       "    </tr>\n",
       "  </tbody>\n",
       "</table>\n",
       "</div>"
      ],
      "text/plain": [
       "          Sepal Length  Sepal Width  Petal Length  Petal Width\n",
       "count       100.000000   100.000000    100.000000   100.000000\n",
       "mean          5.836000     3.051000      3.820000     1.220000\n",
       "std           0.807480     0.420076      1.702167     0.725022\n",
       "min           4.300000     2.000000      1.000000     0.100000\n",
       "25%           5.100000     2.800000      1.675000     0.300000\n",
       "50%           5.800000     3.000000      4.450000     1.400000\n",
       "75%           6.400000     3.300000      5.100000     1.800000\n",
       "max           7.900000     4.200000      6.700000     2.500000\n",
       "variance      0.652024     0.176464      2.897374     0.525657"
      ]
     },
     "execution_count": 11,
     "metadata": {},
     "output_type": "execute_result"
    }
   ],
   "source": [
    "summary_stats = X_train_df.describe()\n",
    "\n",
    "# add 'variance' because describe doesn't show it\n",
    "summary_stats.loc['variance'] = summary_stats.loc['std']**2\n",
    "summary_stats"
   ]
  },
  {
   "cell_type": "code",
   "execution_count": 12,
   "metadata": {},
   "outputs": [
    {
     "data": {
      "text/html": [
       "<div>\n",
       "<style scoped>\n",
       "    .dataframe tbody tr th:only-of-type {\n",
       "        vertical-align: middle;\n",
       "    }\n",
       "\n",
       "    .dataframe tbody tr th {\n",
       "        vertical-align: top;\n",
       "    }\n",
       "\n",
       "    .dataframe thead th {\n",
       "        text-align: right;\n",
       "    }\n",
       "</style>\n",
       "<table border=\"1\" class=\"dataframe\">\n",
       "  <thead>\n",
       "    <tr style=\"text-align: right;\">\n",
       "      <th></th>\n",
       "      <th>Sepal Length</th>\n",
       "      <th>Sepal Width</th>\n",
       "      <th>Petal Length</th>\n",
       "      <th>Petal Width</th>\n",
       "    </tr>\n",
       "  </thead>\n",
       "  <tbody>\n",
       "    <tr>\n",
       "      <th>count</th>\n",
       "      <td>1.000000e+02</td>\n",
       "      <td>1.000000e+02</td>\n",
       "      <td>1.000000e+02</td>\n",
       "      <td>1.000000e+02</td>\n",
       "    </tr>\n",
       "    <tr>\n",
       "      <th>mean</th>\n",
       "      <td>7.149836e-16</td>\n",
       "      <td>6.483702e-16</td>\n",
       "      <td>8.770762e-16</td>\n",
       "      <td>-2.664535e-16</td>\n",
       "    </tr>\n",
       "    <tr>\n",
       "      <th>std</th>\n",
       "      <td>1.005038e+00</td>\n",
       "      <td>1.005038e+00</td>\n",
       "      <td>1.005038e+00</td>\n",
       "      <td>1.005038e+00</td>\n",
       "    </tr>\n",
       "    <tr>\n",
       "      <th>min</th>\n",
       "      <td>-1.911797e+00</td>\n",
       "      <td>-2.514534e+00</td>\n",
       "      <td>-1.665058e+00</td>\n",
       "      <td>-1.552564e+00</td>\n",
       "    </tr>\n",
       "    <tr>\n",
       "      <th>25%</th>\n",
       "      <td>-9.160693e-01</td>\n",
       "      <td>-6.005214e-01</td>\n",
       "      <td>-1.266507e+00</td>\n",
       "      <td>-1.275320e+00</td>\n",
       "    </tr>\n",
       "    <tr>\n",
       "      <th>50%</th>\n",
       "      <td>-4.480774e-02</td>\n",
       "      <td>-1.220183e-01</td>\n",
       "      <td>3.719809e-01</td>\n",
       "      <td>2.495191e-01</td>\n",
       "    </tr>\n",
       "    <tr>\n",
       "      <th>75%</th>\n",
       "      <td>7.019879e-01</td>\n",
       "      <td>5.957364e-01</td>\n",
       "      <td>7.557708e-01</td>\n",
       "      <td>8.040061e-01</td>\n",
       "    </tr>\n",
       "    <tr>\n",
       "      <th>max</th>\n",
       "      <td>2.568977e+00</td>\n",
       "      <td>2.749001e+00</td>\n",
       "      <td>1.700484e+00</td>\n",
       "      <td>1.774358e+00</td>\n",
       "    </tr>\n",
       "    <tr>\n",
       "      <th>variance</th>\n",
       "      <td>1.010101e+00</td>\n",
       "      <td>1.010101e+00</td>\n",
       "      <td>1.010101e+00</td>\n",
       "      <td>1.010101e+00</td>\n",
       "    </tr>\n",
       "  </tbody>\n",
       "</table>\n",
       "</div>"
      ],
      "text/plain": [
       "          Sepal Length   Sepal Width  Petal Length   Petal Width\n",
       "count     1.000000e+02  1.000000e+02  1.000000e+02  1.000000e+02\n",
       "mean      7.149836e-16  6.483702e-16  8.770762e-16 -2.664535e-16\n",
       "std       1.005038e+00  1.005038e+00  1.005038e+00  1.005038e+00\n",
       "min      -1.911797e+00 -2.514534e+00 -1.665058e+00 -1.552564e+00\n",
       "25%      -9.160693e-01 -6.005214e-01 -1.266507e+00 -1.275320e+00\n",
       "50%      -4.480774e-02 -1.220183e-01  3.719809e-01  2.495191e-01\n",
       "75%       7.019879e-01  5.957364e-01  7.557708e-01  8.040061e-01\n",
       "max       2.568977e+00  2.749001e+00  1.700484e+00  1.774358e+00\n",
       "variance  1.010101e+00  1.010101e+00  1.010101e+00  1.010101e+00"
      ]
     },
     "execution_count": 12,
     "metadata": {},
     "output_type": "execute_result"
    }
   ],
   "source": [
    "summary_stats = X_train_std_df.describe()\n",
    "summary_stats.loc['variance'] = summary_stats.loc['std']**2\n",
    "summary_stats"
   ]
  },
  {
   "cell_type": "markdown",
   "metadata": {
    "tags": []
   },
   "source": [
    "**Solution for Exercise 12.02**\n",
    "\n",
    "No solution required - just experiment and observe :)"
   ]
  },
  {
   "cell_type": "code",
   "execution_count": null,
   "metadata": {},
   "outputs": [],
   "source": []
  }
 ],
 "metadata": {
  "kernelspec": {
   "display_name": "Python 3",
   "language": "python",
   "name": "python3"
  },
  "language_info": {
   "codemirror_mode": {
    "name": "ipython",
    "version": 3
   },
   "file_extension": ".py",
   "mimetype": "text/x-python",
   "name": "python",
   "nbconvert_exporter": "python",
   "pygments_lexer": "ipython3",
   "version": "3.8.5"
  }
 },
 "nbformat": 4,
 "nbformat_minor": 5
}
