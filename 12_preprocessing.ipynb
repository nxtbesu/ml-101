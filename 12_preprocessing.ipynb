{
 "cells": [
  {
   "cell_type": "markdown",
   "metadata": {},
   "source": [
    "### Introduction\n",
    "\n",
    "We have deployed our model and it is successfully being used to determine the class of Iris flowers by botanists all over the world!\n",
    "\n",
    "Enjoying our success and the data science we have been doing, has resulted in us spending more time learning more about LinearSVC models.\n",
    "\n",
    "One thing we noticed in the [LinearSVC documentation](https://scikit-learn.org/stable/modules/svm.html#svm-classification) was the following:\n",
    "\n",
    "> Support Vector Machine algorithms are not scale invariant, so it is highly recommended to scale your data.\n",
    "\n",
    "Oh. What does 'scale your data' mean?\n"
   ]
  },
  {
   "cell_type": "markdown",
   "metadata": {
    "tags": []
   },
   "source": [
    "### Scaling Data\n",
    "\n",
    "There are many ways to scale data (see the [Appendix](#Appendix)).  A good starting point for learning about scalers is StandardScaler:\n",
    "\n",
    "> Standardize features by removing the mean and scaling to unit variance.\n",
    ">\n",
    "> *Source: https://scikit-learn.org/stable/modules/generated/sklearn.preprocessing.StandardScaler.html*\n",
    "\n",
    "[TODO more coming soon ...]\n"
   ]
  },
  {
   "cell_type": "code",
   "execution_count": 20,
   "metadata": {},
   "outputs": [
    {
     "data": {
      "text/html": [
       "<style type=\"text/css\">\n",
       "</style>\n",
       "<table id=\"T_9cb03_\">\n",
       "  <thead>\n",
       "    <tr>\n",
       "      <th class=\"col_heading level0 col0\" >0</th>\n",
       "      <th class=\"col_heading level0 col1\" >1</th>\n",
       "      <th class=\"col_heading level0 col2\" >2</th>\n",
       "      <th class=\"col_heading level0 col3\" >3</th>\n",
       "    </tr>\n",
       "  </thead>\n",
       "  <tbody>\n",
       "    <tr>\n",
       "      <td id=\"T_9cb03_row0_col0\" class=\"data row0 col0\" >5.500000</td>\n",
       "      <td id=\"T_9cb03_row0_col1\" class=\"data row0 col1\" >2.400000</td>\n",
       "      <td id=\"T_9cb03_row0_col2\" class=\"data row0 col2\" >3.800000</td>\n",
       "      <td id=\"T_9cb03_row0_col3\" class=\"data row0 col3\" >1.100000</td>\n",
       "    </tr>\n",
       "    <tr>\n",
       "      <td id=\"T_9cb03_row1_col0\" class=\"data row1 col0\" >-0.439871</td>\n",
       "      <td id=\"T_9cb03_row1_col1\" class=\"data row1 col1\" >-1.515380</td>\n",
       "      <td id=\"T_9cb03_row1_col2\" class=\"data row1 col2\" >0.000558</td>\n",
       "      <td id=\"T_9cb03_row1_col3\" class=\"data row1 col3\" >-0.144850</td>\n",
       "    </tr>\n",
       "  </tbody>\n",
       "</table>\n"
      ],
      "text/plain": [
       "<pandas.io.formats.style.Styler at 0x7f09e3eb7760>"
      ]
     },
     "execution_count": 20,
     "metadata": {},
     "output_type": "execute_result"
    }
   ],
   "source": [
    "from sklearn import datasets\n",
    "from sklearn.model_selection import train_test_split\n",
    "from sklearn.preprocessing import StandardScaler\n",
    "    \n",
    "iris = datasets.load_iris()\n",
    "X = iris.data\n",
    "y = iris.target\n",
    "\n",
    "X_train, X_test, y_train, y_test = train_test_split(X, y, test_size=0.33)\n",
    "\n",
    "# https://scikit-learn.org/stable/modules/generated/sklearn.preprocessing.StandardScaler.html\n",
    "std_slc = StandardScaler()\n",
    "std_slc.fit(X_train)\n",
    "X_train_std = std_slc.transform(X_train)\n",
    "X_test_std = std_slc.transform(X_test)\n",
    "\n",
    "\n",
    "import pandas as pd\n",
    "df1 = pd.DataFrame(X_train[0:1])\n",
    "df2 = pd.DataFrame(X_train_std[0:1])\n",
    "\n",
    "df1.append(df2).style.hide_index()"
   ]
  },
  {
   "cell_type": "markdown",
   "metadata": {
    "tags": []
   },
   "source": [
    "### Inconsistent Preprocessing\n",
    "\n",
    "\n",
    ">  If ... data transforms are used when training a model, they also must be used on subsequent datasets, whether it’s test data or data in a production system. Otherwise, the feature space will change, and the model will not be able to perform effectively.\n",
    ">\n",
    "> https://scikit-learn.org/stable/common_pitfalls.html#inconsistent-preprocessing\n",
    "\n",
    "[TODO] Let's apply this now to our scaled iris model ...\n",
    "\n"
   ]
  },
  {
   "cell_type": "markdown",
   "metadata": {},
   "source": [
    "---\n",
    "### Navigation\n",
    "\n",
    "[Previous](./11_model_predictions.ipynb) | [Home](./00-README-FIRST.ipynb) | [Next](./98_outro.ipynb) notebook\n",
    "\n",
    "---"
   ]
  },
  {
   "cell_type": "markdown",
   "metadata": {
    "tags": []
   },
   "source": [
    "<div class=\"alert-info\">\n",
    "\n",
    "### Appendix\n",
    "\n",
    "Other Scikit-learn scalers:\n",
    "\n",
    "- [sklearn.preprocessing.MinMaxScaler](https://scikit-learn.org/stable/modules/generated/sklearn.preprocessing.MinMaxScaler.html)\n",
    "- [sklearn.preprocessing.MaxAbsScaler](https://scikit-learn.org/stable/modules/generated/sklearn.preprocessing.MaxAbsScaler.html)\n",
    "- [sklearn.preprocessing.StandardScaler](https://scikit-learn.org/stable/modules/generated/sklearn.preprocessing.StandardScaler.html)\n",
    "- [sklearn.preprocessing.RobustScaler](https://scikit-learn.org/stable/modules/generated/sklearn.preprocessing.RobustScaler.html)\n",
    "- [sklearn.preprocessing.Normalizer](https://scikit-learn.org/stable/modules/generated/sklearn.preprocessing.Normalizer.html)\n",
    "- [sklearn.preprocessing.QuantileTransformer](https://scikit-learn.org/stable/modules/generated/sklearn.preprocessing.QuantileTransformer.html)\n",
    "- [sklearn.preprocessing.PowerTransformer](https://scikit-learn.org/stable/modules/generated/sklearn.preprocessing.PowerTransformer.html)\n",
    "\n",
    "</div>"
   ]
  },
  {
   "cell_type": "code",
   "execution_count": null,
   "metadata": {},
   "outputs": [],
   "source": []
  }
 ],
 "metadata": {
  "kernelspec": {
   "display_name": "Python 3",
   "language": "python",
   "name": "python3"
  },
  "language_info": {
   "codemirror_mode": {
    "name": "ipython",
    "version": 3
   },
   "file_extension": ".py",
   "mimetype": "text/x-python",
   "name": "python",
   "nbconvert_exporter": "python",
   "pygments_lexer": "ipython3",
   "version": "3.8.5"
  }
 },
 "nbformat": 4,
 "nbformat_minor": 5
}
