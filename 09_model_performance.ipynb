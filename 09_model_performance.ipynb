{
 "cells": [
  {
   "cell_type": "markdown",
   "id": "2f0743a6-722b-4edf-a87a-4e3c03ffc320",
   "metadata": {},
   "source": [
    "### Introduction\n",
    "\n",
    "It is important to be able to quantify the performance of the model.\n",
    "\n",
    "Each algorithm (estimator) has it's own evaluation criteria based on the problem it is trying to solve.  The approach is described in each estimator’s documentation.\n",
    "\n",
    "The technical description for LinearSVC score is here:\n",
    "\n",
    "- https://scikit-learn.org/stable/modules/generated/sklearn.svm.LinearSVC.html#sklearn.svm.LinearSVC.score"
   ]
  },
  {
   "cell_type": "markdown",
   "id": "a63d5b52-23fc-4579-840a-f09b134d2051",
   "metadata": {},
   "source": [
    "### Linear SVC accuracy\n",
    "\n",
    "In the notebook [08 test and train split](./08_test_and_train_split.ipynb) we used the `score()` method:\n",
    "\n",
    "```python\n",
    "model.score(X_test, y_test) # -> 0.92\n",
    "```\n",
    "\n",
    "What is score actually doing in the case of Linear SVC?  A simplied answer is:\n",
    "\n",
    "$$\n",
    "score = \\frac{the\\:number\\:of\\:correct\\:predictions\\:made}{the\\:total\\:number\\:of\\:prediction\\:made} * 100\n",
    "$$\n",
    "\n",
    "We can also visually display the accuracy for classifications using a [confusion matrix](https://en.wikipedia.org/wiki/Confusion_matrixhttps://en.wikipedia.org/wiki/Confusion_matrix).\n",
    "\n",
    "The following code creates a confusion matrix:\n"
   ]
  },
  {
   "cell_type": "code",
   "execution_count": 1,
   "id": "8be910a0-ee52-432b-bf23-d2f710fb9dca",
   "metadata": {},
   "outputs": [],
   "source": [
    "import numpy as np\n",
    "np.random.seed(1)\n",
    "\n",
    "from sklearn.datasets import load_iris\n",
    "from sklearn.model_selection import train_test_split\n",
    "from sklearn.svm import LinearSVC\n",
    "\n",
    "iris = load_iris()\n",
    "X, y = iris.data, iris.target\n",
    "X_train, X_test, y_train, y_test = train_test_split( X, y, test_size=0.33)\n",
    "classifier = LinearSVC(max_iter=3500)\n",
    "model = classifier.fit(X_train, y_train)"
   ]
  },
  {
   "cell_type": "code",
   "execution_count": 2,
   "id": "f3dbde4b-a3a8-4189-aa5d-37d240a7592c",
   "metadata": {},
   "outputs": [
    {
     "data": {
      "text/plain": [
       "<sklearn.metrics._plot.confusion_matrix.ConfusionMatrixDisplay at 0x7f54d03eba60>"
      ]
     },
     "execution_count": 2,
     "metadata": {},
     "output_type": "execute_result"
    },
    {
     "data": {
      "image/png": "[encoded data removed]",
      "text/plain": [
       "<Figure size 432x288 with 2 Axes>"
      ]
     },
     "metadata": {
      "needs_background": "light"
     },
     "output_type": "display_data"
    }
   ],
   "source": [
    "import matplotlib.pyplot as plt\n",
    "from sklearn.metrics import ConfusionMatrixDisplay\n",
    "ConfusionMatrixDisplay.from_estimator(classifier, X_test, y_test)"
   ]
  },
  {
   "cell_type": "markdown",
   "id": "0f3a3146-89e3-4f5c-b099-245bb4997201",
   "metadata": {},
   "source": [
    "We can see the true (actual) label on the left hand side (0, 1 or 2) and the predicted label on the bottom (0, 1, 2).\n",
    "\n",
    "The diagonal shows the correct predictions (17 + 16 + 13).  The total number of predictions is (17 + 16 + 13 + 1 + 3)\n",
    "\n",
    "Therefore, the score is:"
   ]
  },
  {
   "cell_type": "code",
   "execution_count": 3,
   "id": "ea2b9e17-2b81-4efd-85a8-d1d5cb13d606",
   "metadata": {},
   "outputs": [
    {
     "data": {
      "text/plain": [
       "0.92"
      ]
     },
     "execution_count": 3,
     "metadata": {},
     "output_type": "execute_result"
    }
   ],
   "source": [
    "(17 + 16 + 13) / (17 + 16 + 13 + 1 + 3)"
   ]
  },
  {
   "cell_type": "markdown",
   "id": "0f4e951d-a99c-498c-b516-752b3f3d7214",
   "metadata": {},
   "source": [
    "### Advanced\n",
    "\n",
    "Scikit-learn provides 3 different APIs for evaluating the quality of a model’s predictions.  These are discussed in the page:  https://scikit-learn.org/stable/modules/model_evaluation.html\n"
   ]
  },
  {
   "cell_type": "markdown",
   "id": "c247482c-c6c7-465f-a48f-625ef1a57bd0",
   "metadata": {},
   "source": [
    "---\n",
    "\n",
    "### Navigation\n",
    "\n",
    "[Previous](./08_test_and_train_split.ipynb) | [Home](./00-README-FIRST.ipynb) | [Next](./10_model_persistence.ipynb) notebook"
   ]
  },
  {
   "cell_type": "code",
   "execution_count": null,
   "id": "1ed1e49a-d940-4dae-be95-7007d21b4973",
   "metadata": {},
   "outputs": [],
   "source": []
  }
 ],
 "metadata": {
  "kernelspec": {
   "display_name": "Python 3 (ipykernel)",
   "language": "python",
   "name": "python3"
  },
  "language_info": {
   "codemirror_mode": {
    "name": "ipython",
    "version": 3
   },
   "file_extension": ".py",
   "mimetype": "text/x-python",
   "name": "python",
   "nbconvert_exporter": "python",
   "pygments_lexer": "ipython3",
   "version": "3.9.7"
  }
 },
 "nbformat": 4,
 "nbformat_minor": 5
}
