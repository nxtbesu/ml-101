{
 "cells": [
  {
   "cell_type": "markdown",
   "id": "2f0743a6-722b-4edf-a87a-4e3c03ffc320",
   "metadata": {},
   "source": [
    "### Introduction\n",
    "\n",
    "It is important to be able to quantify the performance of the model.\n",
    "\n",
    "Each algorithm (estimator) has it's own evaluation criteria based on the problem it is trying to solve.  The approach is described in each estimator’s documentation"
   ]
  },
  {
   "cell_type": "markdown",
   "id": "a63d5b52-23fc-4579-840a-f09b134d2051",
   "metadata": {},
   "source": [
    "### Linear SVC accuracy\n",
    "\n",
    "In the notebook [08 test and train split](./08_test_and_train_split.ipynb) we used the `score()` method:\n",
    "\n",
    "```python\n",
    "model.score(X_test, y_test) # -> 0.92\n",
    "```\n",
    "\n",
    "What is score actually doing in the case of Linear SVC?  A simplied answer is:\n",
    "\n",
    "$$\n",
    "score = \\frac{the\\:number\\:of\\:correct\\:predictions\\:made}{the\\:total\\:number\\:of\\:prediction\\:made} * 100\n",
    "$$\n",
    "\n",
    "\n",
    "The technical description is available in the docs for LinearSVC:\n",
    "\n",
    "- https://scikit-learn.org/stable/modules/generated/sklearn.svm.LinearSVC.html#sklearn.svm.LinearSVC.score"
   ]
  },
  {
   "cell_type": "markdown",
   "id": "76b38d3b-2845-4b26-aa2e-217e66cef10a",
   "metadata": {},
   "source": [
    "All Scikit-learn Estimators have a score method to apply the evaluation criteria. As already mentioned above, this is discussed in each estimator’s documentation."
   ]
  },
  {
   "cell_type": "markdown",
   "id": "0f4e951d-a99c-498c-b516-752b3f3d7214",
   "metadata": {},
   "source": [
    "### Advanced\n",
    "\n",
    "Scikit-learn provides 3 different APIs for evaluating the quality of a model’s predictions.  These are discussed in the page:  https://scikit-learn.org/stable/modules/model_evaluation.html\n"
   ]
  },
  {
   "cell_type": "markdown",
   "id": "c247482c-c6c7-465f-a48f-625ef1a57bd0",
   "metadata": {},
   "source": [
    "---\n",
    "\n",
    "### Navigation\n",
    "\n",
    "[Previous](./08_test_and_train_split.ipynb) | [Home](./00-README-FIRST.ipynb) | [Next](./10_model_persistence.ipynb) notebook"
   ]
  },
  {
   "cell_type": "code",
   "execution_count": null,
   "id": "1ed1e49a-d940-4dae-be95-7007d21b4973",
   "metadata": {},
   "outputs": [],
   "source": []
  }
 ],
 "metadata": {
  "kernelspec": {
   "display_name": "Python 3 (ipykernel)",
   "language": "python",
   "name": "python3"
  },
  "language_info": {
   "codemirror_mode": {
    "name": "ipython",
    "version": 3
   },
   "file_extension": ".py",
   "mimetype": "text/x-python",
   "name": "python",
   "nbconvert_exporter": "python",
   "pygments_lexer": "ipython3",
   "version": "3.9.7"
  }
 },
 "nbformat": 4,
 "nbformat_minor": 5
}
